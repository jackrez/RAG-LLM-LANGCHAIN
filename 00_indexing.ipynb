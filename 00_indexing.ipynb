{
 "cells": [
  {
   "cell_type": "code",
   "execution_count": 1,
   "id": "caa76f47-fc94-4c64-8901-173d9736093d",
   "metadata": {
    "tags": []
   },
   "outputs": [],
   "source": [
    "import os"
   ]
  },
  {
   "cell_type": "code",
   "execution_count": 2,
   "id": "2485707a-aa3f-4d9c-a5e8-701285a9d1ca",
   "metadata": {
    "tags": []
   },
   "outputs": [],
   "source": [
    "with open('./openai_api_key.txt') as f:\n",
    "    openai_api_key = f.read()"
   ]
  },
  {
   "cell_type": "code",
   "execution_count": 3,
   "id": "15654df3-197c-4bdb-8a65-6ffd2251d83f",
   "metadata": {
    "tags": []
   },
   "outputs": [],
   "source": [
    "from langchain_openai import OpenAIEmbeddings\n",
    "embedding_llm = OpenAIEmbeddings(openai_api_key=openai_api_key)"
   ]
  },
  {
   "cell_type": "code",
   "execution_count": 5,
   "id": "f98c0b0b-373b-4d8e-afef-62336aaf99f1",
   "metadata": {},
   "outputs": [],
   "source": [
    "from langchain_community.document_loaders import TextLoader"
   ]
  },
  {
   "cell_type": "markdown",
   "id": "adea3be8-4eac-4027-9fc2-751f3aefe341",
   "metadata": {},
   "source": [
    "# Files & Loading"
   ]
  },
  {
   "cell_type": "code",
   "execution_count": 6,
   "id": "4f297032",
   "metadata": {},
   "outputs": [],
   "source": [
    "from pathlib import Path"
   ]
  },
  {
   "cell_type": "code",
   "execution_count": 7,
   "id": "ac44bce5",
   "metadata": {},
   "outputs": [],
   "source": [
    "docs_base = Path(\"./docs\")\n",
    "files_all = docs_base.rglob(\"*\")\n",
    "excludes = [\".DS_Store\", \".ipynb_checkpoints\"]\n",
    "files = []\n",
    "for f in files_all:\n",
    "    to_exclude = False\n",
    "    for ex in excludes:\n",
    "        to_exclude = to_exclude or f.match(ex)\n",
    "    if not to_exclude and f.is_file():\n",
    "        files.append(f)"
   ]
  },
  {
   "cell_type": "code",
   "execution_count": 8,
   "id": "7f13c0ad",
   "metadata": {},
   "outputs": [
    {
     "data": {
      "text/plain": [
       "[PosixPath('docs/menu_price.csv'),\n",
       " PosixPath('docs/general_info.txt'),\n",
       " PosixPath('docs/coffee_bean_menu.csv'),\n",
       " PosixPath('docs/product_factsheets/geisha.txt'),\n",
       " PosixPath('docs/product_factsheets/blue_mountain.txt'),\n",
       " PosixPath('docs/product_factsheets/sumatra_mandheling.txt'),\n",
       " PosixPath('docs/product_factsheets/yirgacheffe.txt')]"
      ]
     },
     "execution_count": 8,
     "metadata": {},
     "output_type": "execute_result"
    }
   ],
   "source": [
    "files"
   ]
  },
  {
   "cell_type": "code",
   "execution_count": 9,
   "id": "9be9e14b-3c93-4d67-9065-8170aabdae84",
   "metadata": {},
   "outputs": [
    {
     "name": "stdout",
     "output_type": "stream",
     "text": [
      "docs/menu_price.csv\n",
      "docs/general_info.txt\n",
      "docs/coffee_bean_menu.csv\n",
      "docs/product_factsheets/geisha.txt\n",
      "docs/product_factsheets/blue_mountain.txt\n",
      "docs/product_factsheets/sumatra_mandheling.txt\n",
      "docs/product_factsheets/yirgacheffe.txt\n"
     ]
    }
   ],
   "source": [
    "documents = []\n",
    "for file in files:\n",
    "    print(file)\n",
    "    loader = TextLoader(str(file.absolute()))\n",
    "    documents += loader.load()"
   ]
  },
  {
   "cell_type": "code",
   "execution_count": 10,
   "id": "457076f8",
   "metadata": {},
   "outputs": [
    {
     "data": {
      "text/plain": [
       "[Document(page_content='\\ufeffTable of Drink Menu,,\\nCoffee Drink,Small Size Price ($),Large Size Price ($)\\nEspresso,2.00,3.00\\nAmericano,2.50,3.50\\nCappuccino,3.00,4.50\\nLatte,3.50,5.00\\nMocha,4.00,5.50\\n,,\\nTable of Add-on items or change,,\\nIce,0.50,\\nOat milk,1.00,\\nSoy milk,0.75,', metadata={'source': '/Users/pisek.kul/Documents/case-done-codes/rag-demo-langchain/docs/menu_price.csv'}),\n",
       " Document(page_content='Shop Name: PlanetBucks\\nWhat we sell: coffee drinks and coffee bean\\n\\nOperating time:\\nMonday to Friday 7 am - 8 pm\\nSaturday, Sunday, National Holiday 9 am - 4 pm\\n\\nAddress: ชั้น G ห้าง Emquartier สุขุมวิท กรุงเทพฯ\\nBranch 1: Icon Siam Mall, Third Floor, South Wing, Bangkok, Thailand\\nBranch 2: 103th Floor, Empire State Building, NYC\\n\\nPayment: cash, credit card, square, bitcoin', metadata={'source': '/Users/pisek.kul/Documents/case-done-codes/rag-demo-langchain/docs/general_info.txt'}),\n",
       " Document(page_content='\\ufeffTopic,Geisha,Yirgacheffe,Blue Mountain,Sumatra Mandheling\\nOrigin,\"Hacienda La Esmeralda, Panama\",\"Yirgacheffe region, Ethiopia\",\"Blue Mountains, Jamaica\",\"Mandheling, Sumatra, Indonesia\"\\nAltitude (meters),\"1,500-2,000\",\"1,700-2,200\",\"910-1,700\",\"1,000-1,500\"\\nFlavor Profile,\"Jasmine, bergamot, honey, peaches, berries\",\"Floral, lemon, bergamot, jasmine, honey\",\"Sweet herbs, nuts, chocolate\",\"Dark chocolate, cedar, tropical fruit\"\\nAcidity,Bright,Vibrant,Mild,Low\\nBody,Delicate,Light-Medium,Smooth,Full\\nAftertaste,Sweet,\"Clean, sweet\",\"Clean, chocolatey\",Spicy\\nProcessing Method,Washed,Washed,Wet-processed,Giling Basah\\nRoast Level,Light-Medium,Light-Medium,Medium,Medium-Dark\\nRecommended Brewing Methods,\"Pour-over, Chemex, Aeropress\",\"Pour-over, cold brew, drip\",\"Drip, French press\",\"Espresso, French press\"\\nPackaging (oz/g),12 oz (340g),12 oz (340g),16 oz (454g),12 oz (340g)\\nPrice ($ per bag),$50,$30,$40,$25\\nCertifications,\"Direct Trade, Rainforest Alliance\",\"Organic, Fair Trade\",100% Certified,Rainforest Alliance\\nAwards,Best of Panama winner,Global recognition,One of the best globally,Distinctive taste', metadata={'source': '/Users/pisek.kul/Documents/case-done-codes/rag-demo-langchain/docs/coffee_bean_menu.csv'}),\n",
       " Document(page_content=\"Geisha Coffee Beans - Hacienda La Esmeralda\\n\\nOrigin: Boquete, Panama, from Hacienda La Esmeralda, renowned for producing award-winning Geisha coffee.\\nAltitude: Grown at elevations of 1,500 to 2,000 meters, ideal for developing the bean's distinctive flavors.\\nTaste Profile: A harmonious blend of jasmine and bergamot aromas, complemented by flavors of honey, peaches, and wild berries. The coffee boasts a bright acidity, a delicate body, and a sweet, lingering aftertaste.\\nProcessing: Washed process, highlighting its sweetness and intricate floral notes.\\nRoast Level: Light to medium roast, perfect for preserving the bean's unique flavors.\\nBrewing Recommendations: Best enjoyed using pour-over, Chemex, or Aeropress methods to savor its complex profile.\\nPackaging: 12 oz (340g) eco-friendly, resealable bags.\\nPrice: $50 per bag, a testament to its exceptional quality and exclusivity.\\nCertifications: Direct Trade, Rainforest Alliance Certified, ensuring sustainability and fair trade practices.\\nAwards: Celebrated for its outstanding quality with multiple wins in the Best of Panama competition.\", metadata={'source': '/Users/pisek.kul/Documents/case-done-codes/rag-demo-langchain/docs/product_factsheets/geisha.txt'}),\n",
       " Document(page_content='Blue Mountain Coffee Beans - The Jewel of Jamaica\\n\\nOrigin: Cultivated in the revered Blue Mountains of Jamaica, from estates that meet the highest standards of quality.\\nAltitude: Thrives at altitudes of 910 to 1,700 meters, where the climate is perfect for developing its signature flavors.\\nTaste Profile: A rare blend of sweet herbs and nuts, complemented by a chocolate undertone. It boasts a mild acidity, a smooth body, and a clean, sweet aftertaste.\\nProcessing: Wet-processed to enhance its smooth and clean profile.\\nRoast Level: Medium roast, optimizing its mild and unique flavors.\\nBrewing Recommendations: Ideal for drip coffee makers and French press, where its subtle complexities can be savored.\\nPackaging: 16 oz (454g) vacuum-sealed bags for maximum freshness.\\nPrice: $40 per bag, a testament to its unparalleled quality and heritage.\\nCertifications: Officially certified as 100% Blue Mountain Coffee, ensuring authenticity and excellence.\\nAwards: Renowned worldwide for its exceptional quality and exquisite taste.', metadata={'source': '/Users/pisek.kul/Documents/case-done-codes/rag-demo-langchain/docs/product_factsheets/blue_mountain.txt'}),\n",
       " Document(page_content='Sumatra Mandheling Coffee Beans - The Heart of Indonesia\\n\\nOrigin: Sourced from the lush Mandheling region of North Sumatra, Indonesia, where coffee is cultivated with care and tradition.\\nAltitude: Grown at 1,000 to 1,500 meters, ideal for developing its signature deep and earthy flavors.\\nTaste Profile: A robust cup with a profile of dark chocolate and cedar, complemented by a hint of tropical fruit. Features low acidity, a full body, and a spicy aftertaste.\\nProcessing: Utilizes the Giling Basah method, distinctive to Indonesian coffee, enhancing its unique characteristics.\\nRoast Level: Medium to dark roast, perfect for bringing out its bold and rich flavors.\\nBrewing Recommendations: Best enjoyed in espresso or French press, where its complexity can be fully appreciated.\\nPackaging: 12 oz (340g) bags, prioritizing freshness.\\nPrice: $25 per bag, reflecting the premium quality and the unique coffee experience it offers.\\nCertifications: Rainforest Alliance Certified, affirming a commitment to sustainability.\\nAwards: Recognized for its distinctive taste profile and high quality by coffee connoisseurs.', metadata={'source': '/Users/pisek.kul/Documents/case-done-codes/rag-demo-langchain/docs/product_factsheets/sumatra_mandheling.txt'}),\n",
       " Document(page_content=\"Yirgacheffe Coffee Beans - The Essence of Ethiopia\\n\\nOrigin: Sourced from the esteemed Yirgacheffe region within Sidamo, Ethiopia, where coffee cultivation is an art passed down through generations.\\nAltitude: Cultivated at 1,700 to 2,200 meters, the ideal range for developing its signature floral and citrus notes.\\nTaste Profile: A delightful floral bouquet with a citrusy twist, featuring lemon and bergamot, and accented by jasmine and honey. Exhibits a bright acidity and a light to medium body, culminating in a refreshingly sweet aftertaste.\\nProcessing: Washed processing enhances its inherent clarity and exquisite floral undertones.\\nRoast Level: Optimal light to medium roast to preserve the bean's delicate flavors.\\nBrewing Recommendations: Best experienced through pour-over, cold brew, or drip coffee, allowing its unique characteristics to shine.\\nPackaging: 12 oz (340g) bags designed with the environment in mind.\\nPrice: $30 per bag, a tribute to its premium quality and the intricate care involved in its production.\\nCertifications: Proudly Organic and Fair Trade certified, supporting ethical and sustainable coffee farming.\\nAwards: Celebrated for its unique flavor profile and quality, both in Ethiopia and internationally.\", metadata={'source': '/Users/pisek.kul/Documents/case-done-codes/rag-demo-langchain/docs/product_factsheets/yirgacheffe.txt'})]"
      ]
     },
     "execution_count": 10,
     "metadata": {},
     "output_type": "execute_result"
    }
   ],
   "source": [
    "documents"
   ]
  },
  {
   "cell_type": "code",
   "execution_count": 12,
   "id": "7df9d0a4",
   "metadata": {},
   "outputs": [
    {
     "data": {
      "text/plain": [
       "{'page_content': '\\ufeffTable of Drink Menu,,\\nCoffee Drink,Small Size Price ($),Large Size Price ($)\\nEspresso,2.00,3.00\\nAmericano,2.50,3.50\\nCappuccino,3.00,4.50\\nLatte,3.50,5.00\\nMocha,4.00,5.50\\n,,\\nTable of Add-on items or change,,\\nIce,0.50,\\nOat milk,1.00,\\nSoy milk,0.75,',\n",
       " 'metadata': {'source': '/Users/pisek.kul/Documents/case-done-codes/rag-demo-langchain/docs/menu_price.csv'},\n",
       " 'type': 'Document'}"
      ]
     },
     "execution_count": 12,
     "metadata": {},
     "output_type": "execute_result"
    }
   ],
   "source": [
    "documents[0].__dict__"
   ]
  },
  {
   "cell_type": "markdown",
   "id": "b4ee3efd",
   "metadata": {},
   "source": [
    "# Indexing with Chroma"
   ]
  },
  {
   "cell_type": "code",
   "execution_count": 13,
   "id": "643d4bfa-6c31-4a70-8668-d1a18f1e22cc",
   "metadata": {
    "tags": []
   },
   "outputs": [],
   "source": [
    "from langchain_community.vectorstores import Chroma"
   ]
  },
  {
   "cell_type": "code",
   "execution_count": 14,
   "id": "6eb58ad7-a2ce-4e3c-a8ca-d55838e9d822",
   "metadata": {
    "tags": []
   },
   "outputs": [],
   "source": [
    "db = Chroma.from_documents(documents, embedding_llm, persist_directory=\"./chroma\",\n",
    "                          collection_name=\"planetbucks\")"
   ]
  },
  {
   "cell_type": "code",
   "execution_count": 15,
   "id": "d1bd62ee-98a9-4ed4-9502-16e8e8a916ea",
   "metadata": {
    "tags": []
   },
   "outputs": [],
   "source": [
    "db.persist()"
   ]
  },
  {
   "cell_type": "code",
   "execution_count": null,
   "id": "d557989c",
   "metadata": {},
   "outputs": [],
   "source": []
  }
 ],
 "metadata": {
  "environment": {
   "kernel": "python3",
   "name": "common-cpu.m118",
   "type": "gcloud",
   "uri": "us-docker.pkg.dev/deeplearning-platform-release/gcr.io/base-cpu:m118"
  },
  "kernelspec": {
   "display_name": "Python 3",
   "language": "python",
   "name": "python3"
  },
  "language_info": {
   "codemirror_mode": {
    "name": "ipython",
    "version": 3
   },
   "file_extension": ".py",
   "mimetype": "text/x-python",
   "name": "python",
   "nbconvert_exporter": "python",
   "pygments_lexer": "ipython3",
   "version": "3.10.3"
  }
 },
 "nbformat": 4,
 "nbformat_minor": 5
}
