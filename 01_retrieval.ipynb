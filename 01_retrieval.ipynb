{
 "cells": [
  {
   "cell_type": "code",
   "execution_count": 1,
   "id": "4b86a355-9bd1-4cb5-abdc-5cc026894f23",
   "metadata": {
    "tags": []
   },
   "outputs": [],
   "source": [
    "import os\n",
    "from langchain_openai import OpenAIEmbeddings\n",
    "from langchain_community.vectorstores import Chroma\n",
    "from langchain.tools.retriever import create_retriever_tool\n",
    "from langchain.prompts import SystemMessagePromptTemplate, MessagesPlaceholder, HumanMessagePromptTemplate, PromptTemplate\n",
    "\n",
    "with open('./openai_api_key.txt') as f:\n",
    "    openai_api_key = f.read()"
   ]
  },
  {
   "cell_type": "markdown",
   "id": "f031d230-23f6-435a-9b88-cda348574621",
   "metadata": {},
   "source": [
    "# Create Embedding LLM (OpenAI)"
   ]
  },
  {
   "cell_type": "code",
   "execution_count": 2,
   "id": "02829a0e-a8ac-43d1-b136-92de00b0fc65",
   "metadata": {
    "tags": []
   },
   "outputs": [],
   "source": [
    "embedding_llm = OpenAIEmbeddings(openai_api_key=openai_api_key)"
   ]
  },
  {
   "cell_type": "markdown",
   "id": "cbc884b4-a9fe-4da4-a805-b7e645a91f6a",
   "metadata": {},
   "source": [
    "# Load Databases"
   ]
  },
  {
   "cell_type": "code",
   "execution_count": 3,
   "id": "9117a041-4666-4b26-87b7-8647e302764d",
   "metadata": {
    "tags": []
   },
   "outputs": [],
   "source": [
    "db = Chroma(persist_directory='./chroma', embedding_function=embedding_llm,\n",
    "            collection_name=\"planetbucks\")"
   ]
  },
  {
   "cell_type": "markdown",
   "id": "8234c281-a9ba-421c-9fec-a6a5fde39150",
   "metadata": {},
   "source": [
    "# Using Chroma vector database\n",
    "https://api.python.langchain.com/en/latest/vectorstores/langchain_community.vectorstores.chroma.Chroma.html"
   ]
  },
  {
   "cell_type": "markdown",
   "id": "9cd1de5d",
   "metadata": {},
   "source": [
    "## Similarity search"
   ]
  },
  {
   "cell_type": "code",
   "execution_count": 4,
   "id": "cd3d1846",
   "metadata": {},
   "outputs": [
    {
     "name": "stdout",
     "output_type": "stream",
     "text": [
      "4\n"
     ]
    }
   ],
   "source": [
    "query = \"opening hours\"\n",
    "result = db.similarity_search_with_relevance_scores(query)\n",
    "print(len(result))"
   ]
  },
  {
   "cell_type": "code",
   "execution_count": 5,
   "id": "38ac7353",
   "metadata": {},
   "outputs": [
    {
     "data": {
      "text/plain": [
       "[(Document(page_content='Shop Name: PlanetBucks\\nWhat we sell: coffee drinks and coffee bean\\n\\nOperating time:\\nMonday to Friday 7 am - 8 pm\\nSaturday, Sunday, National Holiday 9 am - 4 pm\\n\\nAddress: ชั้น G ห้าง Emquartier สุขุมวิท กรุงเทพฯ\\nBranch 1: Icon Siam Mall, Third Floor, South Wing, Bangkok, Thailand\\nBranch 2: 103th Floor, Empire State Building, NYC\\n\\nPayment: cash, credit card, square, bitcoin', metadata={'source': '/Users/pisek.kul/Documents/case-done-codes/rag-demo-langchain/docs/general_info.txt'}),\n",
       "  0.7053741924241201),\n",
       " (Document(page_content='\\ufeffTable of Drink Menu,,\\nCoffee Drink,Small Size Price ($),Large Size Price ($)\\nEspresso,2.00,3.00\\nAmericano,2.50,3.50\\nCappuccino,3.00,4.50\\nLatte,3.50,5.00\\nMocha,4.00,5.50\\n,,\\nTable of Add-on items or change,,\\nIce,0.50,\\nOat milk,1.00,\\nSoy milk,0.75,', metadata={'source': '/Users/pisek.kul/Documents/case-done-codes/rag-demo-langchain/docs/menu_price.csv'}),\n",
       "  0.643032074177587),\n",
       " (Document(page_content='\\ufeffTopic,Geisha,Yirgacheffe,Blue Mountain,Sumatra Mandheling\\nOrigin,\"Hacienda La Esmeralda, Panama\",\"Yirgacheffe region, Ethiopia\",\"Blue Mountains, Jamaica\",\"Mandheling, Sumatra, Indonesia\"\\nAltitude (meters),\"1,500-2,000\",\"1,700-2,200\",\"910-1,700\",\"1,000-1,500\"\\nFlavor Profile,\"Jasmine, bergamot, honey, peaches, berries\",\"Floral, lemon, bergamot, jasmine, honey\",\"Sweet herbs, nuts, chocolate\",\"Dark chocolate, cedar, tropical fruit\"\\nAcidity,Bright,Vibrant,Mild,Low\\nBody,Delicate,Light-Medium,Smooth,Full\\nAftertaste,Sweet,\"Clean, sweet\",\"Clean, chocolatey\",Spicy\\nProcessing Method,Washed,Washed,Wet-processed,Giling Basah\\nRoast Level,Light-Medium,Light-Medium,Medium,Medium-Dark\\nRecommended Brewing Methods,\"Pour-over, Chemex, Aeropress\",\"Pour-over, cold brew, drip\",\"Drip, French press\",\"Espresso, French press\"\\nPackaging (oz/g),12 oz (340g),12 oz (340g),16 oz (454g),12 oz (340g)\\nPrice ($ per bag),$50,$30,$40,$25\\nCertifications,\"Direct Trade, Rainforest Alliance\",\"Organic, Fair Trade\",100% Certified,Rainforest Alliance\\nAwards,Best of Panama winner,Global recognition,One of the best globally,Distinctive taste', metadata={'source': '/Users/pisek.kul/Documents/case-done-codes/rag-demo-langchain/docs/coffee_bean_menu.csv'}),\n",
       "  0.6201040958837899),\n",
       " (Document(page_content='Sumatra Mandheling Coffee Beans - The Heart of Indonesia\\n\\nOrigin: Sourced from the lush Mandheling region of North Sumatra, Indonesia, where coffee is cultivated with care and tradition.\\nAltitude: Grown at 1,000 to 1,500 meters, ideal for developing its signature deep and earthy flavors.\\nTaste Profile: A robust cup with a profile of dark chocolate and cedar, complemented by a hint of tropical fruit. Features low acidity, a full body, and a spicy aftertaste.\\nProcessing: Utilizes the Giling Basah method, distinctive to Indonesian coffee, enhancing its unique characteristics.\\nRoast Level: Medium to dark roast, perfect for bringing out its bold and rich flavors.\\nBrewing Recommendations: Best enjoyed in espresso or French press, where its complexity can be fully appreciated.\\nPackaging: 12 oz (340g) bags, prioritizing freshness.\\nPrice: $25 per bag, reflecting the premium quality and the unique coffee experience it offers.\\nCertifications: Rainforest Alliance Certified, affirming a commitment to sustainability.\\nAwards: Recognized for its distinctive taste profile and high quality by coffee connoisseurs.', metadata={'source': '/Users/pisek.kul/Documents/case-done-codes/rag-demo-langchain/docs/product_factsheets/sumatra_mandheling.txt'}),\n",
       "  0.6035039018031458)]"
      ]
     },
     "execution_count": 5,
     "metadata": {},
     "output_type": "execute_result"
    }
   ],
   "source": [
    "result"
   ]
  },
  {
   "cell_type": "code",
   "execution_count": 6,
   "id": "14c64d61",
   "metadata": {},
   "outputs": [
    {
     "name": "stdout",
     "output_type": "stream",
     "text": [
      "2\n"
     ]
    }
   ],
   "source": [
    "result = db.similarity_search_with_relevance_scores(query, k=2)\n",
    "print(len(result))"
   ]
  },
  {
   "cell_type": "code",
   "execution_count": 7,
   "id": "7edefae4",
   "metadata": {},
   "outputs": [
    {
     "data": {
      "text/plain": [
       "[(Document(page_content='Shop Name: PlanetBucks\\nWhat we sell: coffee drinks and coffee bean\\n\\nOperating time:\\nMonday to Friday 7 am - 8 pm\\nSaturday, Sunday, National Holiday 9 am - 4 pm\\n\\nAddress: ชั้น G ห้าง Emquartier สุขุมวิท กรุงเทพฯ\\nBranch 1: Icon Siam Mall, Third Floor, South Wing, Bangkok, Thailand\\nBranch 2: 103th Floor, Empire State Building, NYC\\n\\nPayment: cash, credit card, square, bitcoin', metadata={'source': '/Users/pisek.kul/Documents/case-done-codes/rag-demo-langchain/docs/general_info.txt'}),\n",
       "  0.7053741924241201),\n",
       " (Document(page_content='\\ufeffTable of Drink Menu,,\\nCoffee Drink,Small Size Price ($),Large Size Price ($)\\nEspresso,2.00,3.00\\nAmericano,2.50,3.50\\nCappuccino,3.00,4.50\\nLatte,3.50,5.00\\nMocha,4.00,5.50\\n,,\\nTable of Add-on items or change,,\\nIce,0.50,\\nOat milk,1.00,\\nSoy milk,0.75,', metadata={'source': '/Users/pisek.kul/Documents/case-done-codes/rag-demo-langchain/docs/menu_price.csv'}),\n",
       "  0.643032074177587)]"
      ]
     },
     "execution_count": 7,
     "metadata": {},
     "output_type": "execute_result"
    }
   ],
   "source": [
    "result"
   ]
  },
  {
   "cell_type": "markdown",
   "id": "1fc8560b",
   "metadata": {},
   "source": [
    "## MMR (Maximum marginal relevance)\n",
    "- MMR = iteratively find documents that are dissimilar to previous results.\n",
    "- It could improve performance for retrievals."
   ]
  },
  {
   "cell_type": "code",
   "execution_count": 8,
   "id": "1f6b8b0b",
   "metadata": {},
   "outputs": [
    {
     "name": "stderr",
     "output_type": "stream",
     "text": [
      "Number of requested results 20 is greater than number of elements in index 7, updating n_results = 7\n"
     ]
    },
    {
     "data": {
      "text/plain": [
       "[Document(page_content='Shop Name: PlanetBucks\\nWhat we sell: coffee drinks and coffee bean\\n\\nOperating time:\\nMonday to Friday 7 am - 8 pm\\nSaturday, Sunday, National Holiday 9 am - 4 pm\\n\\nAddress: ชั้น G ห้าง Emquartier สุขุมวิท กรุงเทพฯ\\nBranch 1: Icon Siam Mall, Third Floor, South Wing, Bangkok, Thailand\\nBranch 2: 103th Floor, Empire State Building, NYC\\n\\nPayment: cash, credit card, square, bitcoin', metadata={'source': '/Users/pisek.kul/Documents/case-done-codes/rag-demo-langchain/docs/general_info.txt'}),\n",
       " Document(page_content=\"Yirgacheffe Coffee Beans - The Essence of Ethiopia\\n\\nOrigin: Sourced from the esteemed Yirgacheffe region within Sidamo, Ethiopia, where coffee cultivation is an art passed down through generations.\\nAltitude: Cultivated at 1,700 to 2,200 meters, the ideal range for developing its signature floral and citrus notes.\\nTaste Profile: A delightful floral bouquet with a citrusy twist, featuring lemon and bergamot, and accented by jasmine and honey. Exhibits a bright acidity and a light to medium body, culminating in a refreshingly sweet aftertaste.\\nProcessing: Washed processing enhances its inherent clarity and exquisite floral undertones.\\nRoast Level: Optimal light to medium roast to preserve the bean's delicate flavors.\\nBrewing Recommendations: Best experienced through pour-over, cold brew, or drip coffee, allowing its unique characteristics to shine.\\nPackaging: 12 oz (340g) bags designed with the environment in mind.\\nPrice: $30 per bag, a tribute to its premium quality and the intricate care involved in its production.\\nCertifications: Proudly Organic and Fair Trade certified, supporting ethical and sustainable coffee farming.\\nAwards: Celebrated for its unique flavor profile and quality, both in Ethiopia and internationally.\", metadata={'source': '/Users/pisek.kul/Documents/case-done-codes/rag-demo-langchain/docs/product_factsheets/yirgacheffe.txt'})]"
      ]
     },
     "execution_count": 8,
     "metadata": {},
     "output_type": "execute_result"
    }
   ],
   "source": [
    "db.max_marginal_relevance_search(query, k=2)"
   ]
  },
  {
   "cell_type": "markdown",
   "id": "6ee824d4",
   "metadata": {},
   "source": [
    "# Retriever"
   ]
  },
  {
   "cell_type": "code",
   "execution_count": 9,
   "id": "2ff7810c",
   "metadata": {},
   "outputs": [],
   "source": [
    "retriever = db.as_retriever(search_type='mmr', search_kwargs={'k': 2, 'fetch_k': 5})"
   ]
  },
  {
   "cell_type": "code",
   "execution_count": 10,
   "id": "04db113c",
   "metadata": {},
   "outputs": [
    {
     "data": {
      "text/plain": [
       "[Document(page_content='Shop Name: PlanetBucks\\nWhat we sell: coffee drinks and coffee bean\\n\\nOperating time:\\nMonday to Friday 7 am - 8 pm\\nSaturday, Sunday, National Holiday 9 am - 4 pm\\n\\nAddress: ชั้น G ห้าง Emquartier สุขุมวิท กรุงเทพฯ\\nBranch 1: Icon Siam Mall, Third Floor, South Wing, Bangkok, Thailand\\nBranch 2: 103th Floor, Empire State Building, NYC\\n\\nPayment: cash, credit card, square, bitcoin', metadata={'source': '/Users/pisek.kul/Documents/case-done-codes/rag-demo-langchain/docs/general_info.txt'}),\n",
       " Document(page_content='\\ufeffTopic,Geisha,Yirgacheffe,Blue Mountain,Sumatra Mandheling\\nOrigin,\"Hacienda La Esmeralda, Panama\",\"Yirgacheffe region, Ethiopia\",\"Blue Mountains, Jamaica\",\"Mandheling, Sumatra, Indonesia\"\\nAltitude (meters),\"1,500-2,000\",\"1,700-2,200\",\"910-1,700\",\"1,000-1,500\"\\nFlavor Profile,\"Jasmine, bergamot, honey, peaches, berries\",\"Floral, lemon, bergamot, jasmine, honey\",\"Sweet herbs, nuts, chocolate\",\"Dark chocolate, cedar, tropical fruit\"\\nAcidity,Bright,Vibrant,Mild,Low\\nBody,Delicate,Light-Medium,Smooth,Full\\nAftertaste,Sweet,\"Clean, sweet\",\"Clean, chocolatey\",Spicy\\nProcessing Method,Washed,Washed,Wet-processed,Giling Basah\\nRoast Level,Light-Medium,Light-Medium,Medium,Medium-Dark\\nRecommended Brewing Methods,\"Pour-over, Chemex, Aeropress\",\"Pour-over, cold brew, drip\",\"Drip, French press\",\"Espresso, French press\"\\nPackaging (oz/g),12 oz (340g),12 oz (340g),16 oz (454g),12 oz (340g)\\nPrice ($ per bag),$50,$30,$40,$25\\nCertifications,\"Direct Trade, Rainforest Alliance\",\"Organic, Fair Trade\",100% Certified,Rainforest Alliance\\nAwards,Best of Panama winner,Global recognition,One of the best globally,Distinctive taste', metadata={'source': '/Users/pisek.kul/Documents/case-done-codes/rag-demo-langchain/docs/coffee_bean_menu.csv'})]"
      ]
     },
     "execution_count": 10,
     "metadata": {},
     "output_type": "execute_result"
    }
   ],
   "source": [
    "retriever.invoke(query)"
   ]
  },
  {
   "cell_type": "code",
   "execution_count": null,
   "id": "79a0c4b4",
   "metadata": {},
   "outputs": [],
   "source": []
  }
 ],
 "metadata": {
  "environment": {
   "kernel": "python3",
   "name": "common-cpu.m118",
   "type": "gcloud",
   "uri": "us-docker.pkg.dev/deeplearning-platform-release/gcr.io/base-cpu:m118"
  },
  "kernelspec": {
   "display_name": "Python 3",
   "language": "python",
   "name": "python3"
  },
  "language_info": {
   "codemirror_mode": {
    "name": "ipython",
    "version": 3
   },
   "file_extension": ".py",
   "mimetype": "text/x-python",
   "name": "python",
   "nbconvert_exporter": "python",
   "pygments_lexer": "ipython3",
   "version": "3.10.3"
  }
 },
 "nbformat": 4,
 "nbformat_minor": 5
}
